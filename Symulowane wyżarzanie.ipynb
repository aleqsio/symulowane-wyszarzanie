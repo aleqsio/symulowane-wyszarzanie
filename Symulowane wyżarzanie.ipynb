{
 "cells": [
  {
   "cell_type": "code",
   "execution_count": 1,
   "metadata": {},
   "outputs": [],
   "source": [
    "from __future__ import print_function\n",
    "import numpy as np\n",
    "import matplotlib.pyplot as plt\n",
    "import random\n",
    "import matplotlib.cm as cm\n",
    "from ipywidgets import interact, interactive, fixed, interact_manual\n",
    "import ipywidgets as widgets"
   ]
  },
  {
   "cell_type": "markdown",
   "metadata": {},
   "source": [
    "# Aleksander Mikucki - sprawozdanie lab 5\n",
    "# Zadanie 1\n",
    "Generujemy losowe punkty, stosujemy prostą metodę symulowanego wyżarzania do zmniejszenia kosztu trasy"
   ]
  },
  {
   "cell_type": "code",
   "execution_count": 2,
   "metadata": {},
   "outputs": [],
   "source": [
    "points = []\n",
    "size = 50\n",
    "defOrder = []\n",
    "for i in range(size):\n",
    "    points.append((random.random(),random.random()))\n",
    "    defOrder.append(i)"
   ]
  },
  {
   "cell_type": "code",
   "execution_count": 3,
   "metadata": {},
   "outputs": [],
   "source": [
    "def getDistanceForRoute(order):\n",
    "    distance = 0\n",
    "    lastPos = points[order[0]]\n",
    "    for n in order[1:]:\n",
    "        distance+=np.linalg.norm(np.array(points[n])-np.array(lastPos))\n",
    "        lastPos = points[n]\n",
    "    return distance"
   ]
  },
  {
   "cell_type": "code",
   "execution_count": 4,
   "metadata": {},
   "outputs": [],
   "source": [
    "def mutateOrder(o):\n",
    "    order = o.copy()\n",
    "    idx = random.randint(0,len(order)-2)\n",
    "    order[idx], order[idx+1] = order[idx+1], order[idx] #zamieniamy sąsiednie punkty\n",
    "    return order"
   ]
  },
  {
   "cell_type": "code",
   "execution_count": 11,
   "metadata": {},
   "outputs": [
    {
     "data": {
      "text/plain": [
       "24.92738717576127"
      ]
     },
     "execution_count": 11,
     "metadata": {},
     "output_type": "execute_result"
    }
   ],
   "source": [
    "getDistanceForRoute(defOrder)"
   ]
  },
  {
   "cell_type": "code",
   "execution_count": 12,
   "metadata": {},
   "outputs": [
    {
     "data": {
      "text/plain": [
       "24.54610902371623"
      ]
     },
     "execution_count": 12,
     "metadata": {},
     "output_type": "execute_result"
    }
   ],
   "source": [
    "getDistanceForRoute(mutateOrder(defOrder))"
   ]
  },
  {
   "cell_type": "code",
   "execution_count": 18,
   "metadata": {},
   "outputs": [],
   "source": [
    "temp = 1\n",
    "minTemp = 0.000001"
   ]
  },
  {
   "cell_type": "code",
   "execution_count": 19,
   "metadata": {},
   "outputs": [],
   "source": [
    "def shouldAccept(oldCost, newCost, temp):\n",
    "    if(oldCost > newCost):  \n",
    "        return True\n",
    "    else:\n",
    "        return np.exp((oldCost - newCost) / temp)"
   ]
  },
  {
   "cell_type": "code",
   "execution_count": 20,
   "metadata": {},
   "outputs": [],
   "source": [
    "solution = defOrder\n",
    "history = []\n",
    "while(temp > minTemp):\n",
    "    newSolution = mutateOrder(solution)\n",
    "    newCost = getDistanceForRoute(newSolution)\n",
    "    oldCost = getDistanceForRoute(solution)\n",
    "    if(shouldAccept(oldCost, newCost, temp)):\n",
    "        solution = newSolution\n",
    "    temp = 0.999 * temp\n",
    "    history.append(getDistanceForRoute(newSolution))"
   ]
  },
  {
   "cell_type": "code",
   "execution_count": 23,
   "metadata": {},
   "outputs": [
    {
     "data": {
      "image/png": "[encoded data removed]",
      "text/plain": [
       "<Figure size 432x288 with 1 Axes>"
      ]
     },
     "metadata": {
      "needs_background": "light"
     },
     "output_type": "display_data"
    }
   ],
   "source": [
    "plt.plot(history);"
   ]
  },
  {
   "cell_type": "markdown",
   "metadata": {},
   "source": [
    "Ciekawym jest fakt istnienia konkretnego przedziału, w którym następuje znacząca optymalizacja rozwiązania (być może została odkryta nowa konfiguracja, która pozwala na dalszą optymalizację).\n",
    "Spodziewałem się, że postęp będzie bardziej liniowy, spowalniający wraz z liczbą iteracji."
   ]
  },
  {
   "cell_type": "markdown",
   "metadata": {},
   "source": [
    "# Zad 2\n",
    "Symulacja pseudograwitacji, \"pseudo\" ponieważ nie uzależniamy energii kwadratu od odległości do pozostałych (bo byłaby to złożoność O(N^2) dla każdej iteracji), kodujemy za to na sztywno energię jako odległość od środka."
   ]
  },
  {
   "cell_type": "code",
   "execution_count": 171,
   "metadata": {},
   "outputs": [],
   "source": [
    "randArr = np.random.randint(10,size=(20, 20))"
   ]
  },
  {
   "cell_type": "code",
   "execution_count": 172,
   "metadata": {},
   "outputs": [
    {
     "data": {
      "text/plain": [
       "<matplotlib.image.AxesImage at 0x11e2e4710>"
      ]
     },
     "execution_count": 172,
     "metadata": {},
     "output_type": "execute_result"
    },
    {
     "data": {
      "image/png": "[encoded data removed]",
      "text/plain": [
       "<Figure size 432x288 with 1 Axes>"
      ]
     },
     "metadata": {
      "needs_background": "light"
     },
     "output_type": "display_data"
    }
   ],
   "source": [
    "plt.imshow(randArr)"
   ]
  },
  {
   "cell_type": "code",
   "execution_count": 199,
   "metadata": {},
   "outputs": [],
   "source": [
    "def getEnergyForArray(array):\n",
    "    [h,w] = array.shape\n",
    "    energy = 0\n",
    "    for y in range(0,h):\n",
    "        for x in range(0,w):\n",
    "            energy+=(abs(y-h/2) + abs(x-w/2))*array[x][y]\n",
    "    return energy"
   ]
  },
  {
   "cell_type": "code",
   "execution_count": 206,
   "metadata": {},
   "outputs": [],
   "source": [
    "def mutateArray(a):\n",
    "    array = a.copy()\n",
    "    [h,w] = array.shape\n",
    "    if(random.random()>0.5):\n",
    "        idx = random.randint(0, w - 2)\n",
    "        for idy in range(0, h):\n",
    "            array[idx][idy],array[idx+1][idy] = array[idx+1][idy],array[idx][idy]\n",
    "    else:\n",
    "        idy = random.randint(0, h - 2)\n",
    "        for idx in range(0, w):\n",
    "            array[idx][idy],array[idx][idy+1] = array[idx][idy+1],array[idx][idy]\n",
    "    return array\n",
    "\n",
    "def mutateArray2(a):\n",
    "    array = a.copy()\n",
    "    [h,w] = array.shape\n",
    "    if(random.random()>0.5):\n",
    "        idx = random.randint(0, w - 1)\n",
    "        idy = random.randint(0, h - 2)\n",
    "        array[idx][idy],array[idx][idy+1] = array[idx][idy+1],array[idx][idy]\n",
    "    else:\n",
    "        idx = random.randint(0, w - 2)\n",
    "        idy = random.randint(0, h - 1)\n",
    "        array[idx][idy],array[idx+1][idy] = array[idx+1][idy],array[idx][idy]\n",
    "    return array"
   ]
  },
  {
   "cell_type": "markdown",
   "metadata": {},
   "source": [
    "Z dwóch funkcji przejścia do stanu sąsiedniego wybieramy tą zamieniającą ze sobą dwa kwadraty, nie całe rzędy/kolumny"
   ]
  },
  {
   "cell_type": "code",
   "execution_count": 207,
   "metadata": {},
   "outputs": [],
   "source": [
    "temp = 1\n",
    "minTemp = 0.00001\n",
    "iteration = 1\n",
    "solutions = {}\n",
    "solutions[0] = randArr"
   ]
  },
  {
   "cell_type": "code",
   "execution_count": 208,
   "metadata": {},
   "outputs": [],
   "source": [
    "solution = randArr\n",
    "while(temp > minTemp):\n",
    "    newSolution = mutateArray2(solution)\n",
    "    newCost = getEnergyForArray(newSolution)\n",
    "    oldCost = getEnergyForArray(solution)\n",
    "    if(shouldAccept(oldCost, newCost, temp)):\n",
    "        solution = newSolution\n",
    "    if(iteration % 1000 == 0):\n",
    "        solutions[iteration] = solution\n",
    "    temp = 0.999 * temp\n",
    "    iteration+=1"
   ]
  },
  {
   "cell_type": "code",
   "execution_count": 209,
   "metadata": {},
   "outputs": [
    {
     "data": {
      "text/plain": [
       "<matplotlib.image.AxesImage at 0x11e66ca90>"
      ]
     },
     "execution_count": 209,
     "metadata": {},
     "output_type": "execute_result"
    },
    {
     "data": {
      "image/png": "[encoded data removed]",
      "text/plain": [
       "<Figure size 432x288 with 1 Axes>"
      ]
     },
     "metadata": {
      "needs_background": "light"
     },
     "output_type": "display_data"
    }
   ],
   "source": [
    "plt.imshow(solution)"
   ]
  },
  {
   "cell_type": "code",
   "execution_count": 7,
   "metadata": {},
   "outputs": [],
   "source": [
    "# @interact(index=(0,iteration,1000))\n",
    "# def show(index):\n",
    "#    plt.imshow(solutions[index])"
   ]
  },
  {
   "cell_type": "markdown",
   "metadata": {},
   "source": [
    "# Zad 3"
   ]
  },
  {
   "cell_type": "code",
   "execution_count": 507,
   "metadata": {},
   "outputs": [],
   "source": [
    "sudoku = np.matrix([\n",
    "    [0,0,0,2,6,0,7,0,1],\n",
    "    [6,8,0,0,7,0,0,9,0],\n",
    "    [1,9,0,0,0,4,5,0,0],\n",
    "    [8,2,0,1,0,0,0,4,0],\n",
    "    [0,0,4,6,0,2,9,0,0],\n",
    "    [0,5,0,0,0,3,0,2,8],\n",
    "    [0,0,9,3,0,0,0,7,4],\n",
    "    [0,4,0,0,5,0,0,3,6],\n",
    "    [7,0,3,0,1,8,0,0,0]\n",
    "])"
   ]
  },
  {
   "cell_type": "code",
   "execution_count": 508,
   "metadata": {},
   "outputs": [],
   "source": [
    "numbers = []\n",
    "for x in range(0,9):\n",
    "    for y in range(0,9):\n",
    "        if(sudoku[x,y] > 0):\n",
    "            numbers.append(sudoku[x,y])"
   ]
  },
  {
   "cell_type": "code",
   "execution_count": 509,
   "metadata": {},
   "outputs": [],
   "source": [
    "expectednumbers = list(range(1,9+1)) * 9"
   ]
  },
  {
   "cell_type": "code",
   "execution_count": 510,
   "metadata": {},
   "outputs": [],
   "source": [
    "for n in numbers:\n",
    "    expectednumbers.remove(n)"
   ]
  },
  {
   "cell_type": "code",
   "execution_count": 511,
   "metadata": {},
   "outputs": [],
   "source": [
    "overlay = np.zeros((9,9))\n",
    "filledIndexes = []\n",
    "for x in range(0,9):\n",
    "    for y in range(0,9):\n",
    "        if(sudoku[x,y] == 0):\n",
    "            overlay[x,y] = expectednumbers.pop()\n",
    "            filledIndexes.append((x,y))"
   ]
  },
  {
   "cell_type": "code",
   "execution_count": 512,
   "metadata": {},
   "outputs": [
    {
     "data": {
      "text/plain": [
       "[(0, 0),\n",
       " (0, 1),\n",
       " (0, 2),\n",
       " (0, 5),\n",
       " (0, 7),\n",
       " (1, 2),\n",
       " (1, 3),\n",
       " (1, 5),\n",
       " (1, 6),\n",
       " (1, 8)]"
      ]
     },
     "execution_count": 512,
     "metadata": {},
     "output_type": "execute_result"
    }
   ],
   "source": [
    "filledIndexes[0:10]"
   ]
  },
  {
   "cell_type": "code",
   "execution_count": 513,
   "metadata": {},
   "outputs": [
    {
     "data": {
      "text/plain": [
       "matrix([[9., 8., 7., 2., 6., 6., 7., 5., 1.],\n",
       "        [6., 8., 4., 3., 7., 2., 1., 9., 9.],\n",
       "        [1., 9., 8., 7., 6., 4., 5., 5., 4.],\n",
       "        [8., 2., 3., 1., 2., 1., 9., 4., 8.],\n",
       "        [7., 6., 4., 6., 5., 2., 9., 4., 3.],\n",
       "        [2., 5., 1., 9., 8., 3., 7., 2., 8.],\n",
       "        [6., 5., 9., 3., 4., 3., 2., 7., 4.],\n",
       "        [1., 4., 9., 8., 5., 7., 6., 3., 6.],\n",
       "        [7., 5., 3., 3., 1., 8., 2., 1., 5.]])"
      ]
     },
     "execution_count": 513,
     "metadata": {},
     "output_type": "execute_result"
    }
   ],
   "source": [
    "np.add(overlay,sudoku) # rozdzielamy sobie sudoku na druk i ołówek"
   ]
  },
  {
   "cell_type": "code",
   "execution_count": 514,
   "metadata": {},
   "outputs": [],
   "source": [
    "def isListValid(row):\n",
    "    validity = 0\n",
    "    if(len(row) != 9):\n",
    "        raise ValueError('The size should be 9.')\n",
    "    items = {}\n",
    "    for i in row:\n",
    "        if(i not in items):\n",
    "            validity+=1\n",
    "        items[i] = True\n",
    "    return 9 - validity "
   ]
  },
  {
   "cell_type": "markdown",
   "metadata": {},
   "source": [
    "funkcja kosztu jest dosyć ważna, liczymy ile powtarza się cyfr w danym rzędzie / kolumnie / minikwadracie"
   ]
  },
  {
   "cell_type": "code",
   "execution_count": 515,
   "metadata": {},
   "outputs": [],
   "source": [
    "def getValidCount(overlay):\n",
    "    count = 0\n",
    "    count += sum(map(lambda r: isListValid(r),overlay.tolist()))\n",
    "    count += sum(map(lambda r: isListValid(r),np.rot90(overlay).tolist()))\n",
    "    for subblock_ax1 in np.split(overlay,3):\n",
    "        for subblock_ax2 in np.split(subblock_ax1,3,axis=1):\n",
    "            count += isListValid(subblock_ax2.flatten().tolist()[0])\n",
    "    return(count) # logika sprawdzania sudoku w 6 liniach, python FTW"
   ]
  },
  {
   "cell_type": "code",
   "execution_count": 516,
   "metadata": {},
   "outputs": [
    {
     "data": {
      "text/plain": [
       "64"
      ]
     },
     "execution_count": 516,
     "metadata": {},
     "output_type": "execute_result"
    }
   ],
   "source": [
    "getValidCount(np.add(sudoku,overlay))"
   ]
  },
  {
   "cell_type": "code",
   "execution_count": 517,
   "metadata": {},
   "outputs": [],
   "source": [
    "def mutateArrayOnlyNonZeros(a):\n",
    "    array = np.copy(a)\n",
    "    p1 = random.choice(filledIndexes) # szybka implementacja, brak szukania wolnych miejsc\n",
    "    p2 = random.choice(filledIndexes)\n",
    "    array[p1],array[p2] = array[p2],array[p1]\n",
    "    return array #nie nadpisujemy ołówkiem druku"
   ]
  },
  {
   "cell_type": "code",
   "execution_count": 518,
   "metadata": {},
   "outputs": [],
   "source": [
    "temp = 100\n",
    "minTemp = 0 # minimalizujemy aż znajdziemy idealne rozwiazanie\n",
    "iteration = 1"
   ]
  },
  {
   "cell_type": "code",
   "execution_count": 519,
   "metadata": {},
   "outputs": [
    {
     "name": "stdout",
     "output_type": "stream",
     "text": [
      "66\n",
      "72\n",
      "75\n",
      "72\n",
      "70\n",
      "65\n",
      "77\n",
      "77\n",
      "75\n",
      "66\n",
      "58\n",
      "24\n",
      "14\n",
      "10\n",
      "8\n",
      "6\n",
      "6\n",
      "success\n"
     ]
    }
   ],
   "source": [
    "while(temp > minTemp):\n",
    "    newOverlay = mutateArrayOnlyNonZeros(overlay)\n",
    "    newCost = getValidCount(np.add(sudoku, newOverlay))\n",
    "    oldCost = getValidCount(np.add(sudoku, overlay))\n",
    "    if(iteration % 1000 == 0):\n",
    "        print(newCost)\n",
    "    if(shouldAccept(oldCost, newCost, temp)):\n",
    "        overlay = newOverlay\n",
    "    temp = 0.999 * temp\n",
    "    if(newCost == 0):\n",
    "        print('success')\n",
    "        break\n",
    "    iteration+=1"
   ]
  },
  {
   "cell_type": "code",
   "execution_count": 521,
   "metadata": {},
   "outputs": [
    {
     "data": {
      "text/plain": [
       "matrix([[4., 3., 5., 2., 6., 9., 7., 8., 1.],\n",
       "        [6., 8., 2., 5., 7., 1., 4., 9., 3.],\n",
       "        [1., 9., 7., 8., 3., 4., 5., 6., 2.],\n",
       "        [8., 2., 6., 1., 9., 5., 3., 4., 7.],\n",
       "        [3., 7., 4., 6., 8., 2., 9., 1., 5.],\n",
       "        [9., 5., 1., 7., 4., 3., 6., 2., 8.],\n",
       "        [5., 1., 9., 3., 2., 6., 8., 7., 4.],\n",
       "        [2., 4., 8., 9., 5., 7., 1., 3., 6.],\n",
       "        [7., 6., 3., 4., 1., 8., 2., 5., 9.]])"
      ]
     },
     "execution_count": 521,
     "metadata": {},
     "output_type": "execute_result"
    }
   ],
   "source": [
    "np.add(sudoku, newOverlay)"
   ]
  },
  {
   "cell_type": "markdown",
   "metadata": {},
   "source": [
    "W sumie jestem zaskoczony że tak naiwna implementacja zadziałała, i to w ok. 30s, ale jest to dosyć prosty przykład sudoku :)"
   ]
  }
 ],
 "metadata": {
  "kernelspec": {
   "display_name": "Python 3",
   "language": "python",
   "name": "python3"
  },
  "language_info": {
   "codemirror_mode": {
    "name": "ipython",
    "version": 3
   },
   "file_extension": ".py",
   "mimetype": "text/x-python",
   "name": "python",
   "nbconvert_exporter": "python",
   "pygments_lexer": "ipython3",
   "version": "3.7.1rc2"
  }
 },
 "nbformat": 4,
 "nbformat_minor": 2
}
